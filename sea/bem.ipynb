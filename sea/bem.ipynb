{
  "nbformat": 4,
  "nbformat_minor": 0,
  "metadata": {
    "colab": {
      "name": "bem.ipynb",
      "provenance": []
    },
    "kernelspec": {
      "name": "python3",
      "display_name": "Python 3"
    },
    "language_info": {
      "name": "python"
    }
  },
  "cells": [
    {
      "cell_type": "markdown",
      "metadata": {
        "id": "_WJ9u8acnfLJ"
      },
      "source": [
        "Primeiro, instalamos e importamos todas as bibliotecas:"
      ]
    },
    {
      "cell_type": "code",
      "metadata": {
        "id": "xiPH4Y5FnT07"
      },
      "source": [
        "%%capture\n",
        "!pip install pyopencl meshio plotly==4.12.0 gmsh_api # for PC pip install gmsh\n",
        "#!apt-get install gmsh\n",
        "!pip3 install numba==0.51.2\n",
        "\n",
        "import sys\n",
        "#!git clone https://github.com/live-clones/gmsh\n",
        "#sys.path.append('gmsh')\n",
        "!git clone https://github.com/MuriloCardosoSoares/sea.git \n",
        "sys.path.append('sea')\n",
        "!git clone https://github.com/bempp/bempp-cl.git _bempp-cl\n",
        "sys.path.append('_bempp-cl')\n",
        "\n",
        "import numpy as np\n",
        "import pandas as pd\n",
        "\n",
        "from sea import definitions\n",
        "from sea import materials\n",
        "from sea import room"
      ],
      "execution_count": null,
      "outputs": []
    },
    {
      "cell_type": "markdown",
      "metadata": {
        "id": "8QsDAFfLoC9Q"
      },
      "source": [
        "Criamos o objeto da sala a ser simulada:"
      ]
    },
    {
      "cell_type": "code",
      "metadata": {
        "id": "qG1FqwAOoTgN"
      },
      "source": [
        "my_room = room.Room(room_name = \"my_room\")"
      ],
      "execution_count": null,
      "outputs": []
    },
    {
      "cell_type": "markdown",
      "metadata": {
        "id": "qziq4YTqvnr6"
      },
      "source": [
        "Ajustamos o vetor de frequências para as quais a simulação será feita:\n"
      ]
    },
    {
      "cell_type": "code",
      "metadata": {
        "id": "Oj7roPbOvyDT",
        "colab": {
          "base_uri": "https://localhost:8080/"
        },
        "outputId": "df4685f4-ede5-4634-c81e-9bcd8b382e34"
      },
      "source": [
        "my_room.algorithm_control(20, 290, 1)\n",
        "\n",
        "print(my_room.frequencies)"
      ],
      "execution_count": null,
      "outputs": [
        {
          "output_type": "stream",
          "text": [
            "Simulation algotithm will run from 20 Hz up to 290 Hz. To see all frequencies, use print(self.freq_vec). \n",
            "\n"
          ],
          "name": "stdout"
        }
      ]
    },
    {
      "cell_type": "code",
      "metadata": {
        "colab": {
          "base_uri": "https://localhost:8080/"
        },
        "id": "MYUyebWwNAqX",
        "outputId": "34e51238-6e7e-4e61-df0b-ea781323c5c1"
      },
      "source": [
        "print(my_room.frequencies.freq_vec)"
      ],
      "execution_count": null,
      "outputs": [
        {
          "output_type": "stream",
          "text": [
            "[ 20  21  22  23  24  25  26  27  28  29  30  31  32  33  34  35  36  37\n",
            "  38  39  40  41  42  43  44  45  46  47  48  49  50  51  52  53  54  55\n",
            "  56  57  58  59  60  61  62  63  64  65  66  67  68  69  70  71  72  73\n",
            "  74  75  76  77  78  79  80  81  82  83  84  85  86  87  88  89  90  91\n",
            "  92  93  94  95  96  97  98  99 100 101 102 103 104 105 106 107 108 109\n",
            " 110 111 112 113 114 115 116 117 118 119 120 121 122 123 124 125 126 127\n",
            " 128 129 130 131 132 133 134 135 136 137 138 139 140 141 142 143 144 145\n",
            " 146 147 148 149 150 151 152 153 154 155 156 157 158 159 160 161 162 163\n",
            " 164 165 166 167 168 169 170 171 172 173 174 175 176 177 178 179 180 181\n",
            " 182 183 184 185 186 187 188 189 190 191 192 193 194 195 196 197 198 199\n",
            " 200 201 202 203 204 205 206 207 208 209 210 211 212 213 214 215 216 217\n",
            " 218 219 220 221 222 223 224 225 226 227 228 229 230 231 232 233 234 235\n",
            " 236 237 238 239 240 241 242 243 244 245 246 247 248 249 250 251 252 253\n",
            " 254 255 256 257 258 259 260 261 262 263 264 265 266 267 268 269 270 271\n",
            " 272 273 274 275 276 277 278 279 280 281 282 283 284 285 286 287 288 289\n",
            " 290]\n"
          ],
          "name": "stdout"
        }
      ]
    },
    {
      "cell_type": "markdown",
      "metadata": {
        "id": "sg-lLmbsoW0X"
      },
      "source": [
        "Por padrão, a velocidade de propagação do som no ar é $c_0 = 343 \\text{ m/s}$ e a densidade do ar é $\\rho_0 = 1.21 \\text{ kg/m}^3$. A temperatura é $T = 20^\\circ \\text{C}$, a umidade do ar é $\\text{UR} = 50 \\text{%}$ e a pressão atmosférica é $p_{atm} = 101325 \\text{ Pa}$."
      ]
    },
    {
      "cell_type": "code",
      "metadata": {
        "id": "NpIUS6MfqCfX",
        "colab": {
          "base_uri": "https://localhost:8080/"
        },
        "outputId": "ebdd7f9e-77dd-4379-bd9b-8aa918e8254f"
      },
      "source": [
        "print(my_room.air)"
      ],
      "execution_count": null,
      "outputs": [
        {
          "output_type": "stream",
          "text": [
            "Air sound speed = 343.00 m/s | Air density = 1.21 kg/m^3 | Temperature = 20.00 C | Humid = 50.00 % | Atmospheric pressure = 101325.00 Pa \n",
            "\n"
          ],
          "name": "stdout"
        }
      ]
    },
    {
      "cell_type": "markdown",
      "metadata": {
        "id": "C17X-BhHqDJ3"
      },
      "source": [
        "Podemos ajustar as propriedades do ar que serão consideradas na simulação. Os valores de $c_0$ e $\\rho_0$ podem ser definidos diretamente utilizando alterando os atributos do objeto referentes a essas variáveis:\n",
        "\n",
        "```\n",
        "my_room.air.c0 = \n",
        "my_room.air.rho0 = \n",
        "```\n",
        "\n",
        "Porém , também é possível calcular esses valores a partir da temperatura, umidade do ar e pressão atmosférica:"
      ]
    },
    {
      "cell_type": "code",
      "metadata": {
        "id": "hvyLofc8qMKP",
        "colab": {
          "base_uri": "https://localhost:8080/"
        },
        "outputId": "8669bdf5-1c64-4847-9229-fb3d44396e09"
      },
      "source": [
        "my_room.air.temperature = 20\n",
        "my_room.air.humid = 60\n",
        "my_room.air.p_atm  = 101000\n",
        "\n",
        "my_room.air.standardized_c0_rho0()\n",
        "\n",
        "print(my_room.air)"
      ],
      "execution_count": null,
      "outputs": [
        {
          "output_type": "stream",
          "text": [
            "Air sound speed = 344.54 m/s | Air density = 1.19 kg/m^3 | Temperature = 20.00 C | Humid = 60.00 % | Atmospheric pressure = 101000.00 Pa \n",
            "\n"
          ],
          "name": "stdout"
        }
      ]
    },
    {
      "cell_type": "markdown",
      "metadata": {
        "id": "RlCoqVxcqHP8"
      },
      "source": [
        "Adicionamos o arquivo .geo com a geometria da sala:"
      ]
    },
    {
      "cell_type": "code",
      "metadata": {
        "id": "Ifhz2VGdwc9T",
        "colab": {
          "resources": {
            "http://localhost:8080/nbextensions/google.colab/files.js": {
              "data": "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",
              "ok": true,
              "headers": [
                [
                  "content-type",
                  "application/javascript"
                ]
              ],
              "status": 200,
              "status_text": ""
            }
          },
          "base_uri": "https://localhost:8080/",
          "height": 72
        },
        "outputId": "6377b0bc-2dee-4d17-e1ef-131677f63585"
      },
      "source": [
        "my_room.add_geometry()"
      ],
      "execution_count": null,
      "outputs": [
        {
          "output_type": "display_data",
          "data": {
            "text/html": [
              "\n",
              "     <input type=\"file\" id=\"files-f99cc5d7-d064-406d-a5b1-948b62a4b950\" name=\"files[]\" multiple disabled\n",
              "        style=\"border:none\" />\n",
              "     <output id=\"result-f99cc5d7-d064-406d-a5b1-948b62a4b950\">\n",
              "      Upload widget is only available when the cell has been executed in the\n",
              "      current browser session. Please rerun this cell to enable.\n",
              "      </output>\n",
              "      <script src=\"/nbextensions/google.colab/files.js\"></script> "
            ],
            "text/plain": [
              "<IPython.core.display.HTML object>"
            ]
          },
          "metadata": {
            "tags": []
          }
        },
        {
          "output_type": "stream",
          "text": [
            "Saving CR2_geometry.geo to CR2_geometry.geo\n"
          ],
          "name": "stdout"
        }
      ]
    },
    {
      "cell_type": "markdown",
      "metadata": {
        "id": "xRfvWwm_w0ik"
      },
      "source": [
        "Definimos os materiais que irão compor as superfícies da sala. Os materiais devem ser adicionados de acordo com os *physical groups* estabelecidos no arquivo da geometria.\n",
        "A primeira opção é definir diretamente a admitância, impedância de superfície ou impedância de superfície normalizada:\n",
        "\n",
        "\n",
        "\n",
        "```\n",
        "my_room.add_material(admittance=[...])\n",
        "my_room.add_material(surface_impedance=[...])\n",
        "my_room.add_material(normalized_surface_impedance=[...])\n",
        "```\n",
        "\n",
        "Essa opção pode ser útil caso o comportamento do material tenha sido modelado utilizando alguma ferramenta externa. Entretanto, modelos matemáticos para os principais materiais absorvedores estão disponíveis: \n"
      ]
    },
    {
      "cell_type": "code",
      "metadata": {
        "id": "zTzlgHc0zOw8"
      },
      "source": [
        "my_room.add_material(parameters=[0.025, 0.0025, 0.05, 0.25, 20000, 0.04], absorber_type = \"perforated panel\")"
      ],
      "execution_count": null,
      "outputs": []
    },
    {
      "cell_type": "markdown",
      "metadata": {
        "id": "VnEUbWGEGEq1"
      },
      "source": [
        "É possível também calcular a admitância dos materiais a partir dos coeficientes de absorção em bandas de oitava ou terço de oitava. Uma primeira opção é utilizar a regra dos 55$^\\circ$, o que fará com que sejam obtidos valores reais de admitância."
      ]
    },
    {
      "cell_type": "code",
      "metadata": {
        "id": "S3etAZG8HOYn"
      },
      "source": [
        "my_room.add_material(octave_bands_statistical_alpha = [0.8, 0.7, 0.5, 0.3, 0.1, 0.05], octave_bands = [125, 250, 500, 1000, 2000, 4000])\n",
        "my_room.materials[0]._55_rule()"
      ],
      "execution_count": null,
      "outputs": []
    },
    {
      "cell_type": "markdown",
      "metadata": {
        "id": "ILJXKgO3Iap8"
      },
      "source": [
        "Outra opção é utilizar um processo de otimização para obter valores complexos de admitância a partir de coeficientes de absorção"
      ]
    },
    {
      "cell_type": "code",
      "metadata": {
        "id": "pdUQ8LwEIa1c",
        "colab": {
          "base_uri": "https://localhost:8080/"
        },
        "outputId": "a534fe4f-d6ba-42e0-d427-acfc05a85c9c"
      },
      "source": [
        "my_room.add_material(octave_bands_statistical_alpha = [0.8, 0.7, 0.5, 0.3, 0.1, 0.05], octave_bands = [125, 250, 500, 1000, 2000, 4000], absorber_type = \"perforated panel\")"
      ],
      "execution_count": null,
      "outputs": [
        {
          "output_type": "stream",
          "text": [
            "Working on the solution of the constrained optimization problem...\n",
            "Optimization terminated successfully.    (Exit mode 0)\n",
            "            Current function value: 0.0035104330768815977\n",
            "            Iterations: 125\n",
            "            Function evaluations: 903\n",
            "            Gradient evaluations: 123\n",
            "[0.00000000e+00 7.97063610e-12 4.18701133e+00 8.93471627e-03\n",
            " 2.36379538e-01]\n",
            "The solution of the optimization problem leads to rmk+1 parameters equal to [0.00000000e+00 7.97063610e-12 4.18701133e+00 8.93471627e-03\n",
            " 2.36379523e-01].\n",
            "Impedances, admittances and everything else related to it was already calculated.\n",
            "\n"
          ],
          "name": "stdout"
        }
      ]
    },
    {
      "cell_type": "markdown",
      "metadata": {
        "id": "9D2rRibhJOVC"
      },
      "source": [
        "Podemos listar os materiais que foram adicionadas à simulação:"
      ]
    },
    {
      "cell_type": "code",
      "metadata": {
        "id": "b7uPHPIgJlJl"
      },
      "source": [
        "my_room.list_materials()"
      ],
      "execution_count": null,
      "outputs": []
    },
    {
      "cell_type": "markdown",
      "metadata": {
        "id": "_0YAxDAuJlkR"
      },
      "source": [
        "E deletar materiais:"
      ]
    },
    {
      "cell_type": "code",
      "metadata": {
        "id": "JfaJxnyVJ-AM"
      },
      "source": [
        "my_room.del_materials([1])\n",
        "\n",
        "my_room.list_materials()"
      ],
      "execution_count": null,
      "outputs": []
    },
    {
      "cell_type": "markdown",
      "metadata": {
        "id": "xS3SuQQ1KRnq"
      },
      "source": [
        "Chegamos agora à inclusão das fontes e receptores. No caso das fontes sonoras, é necessário, ao menos, definir as coordenadas e caracterizar a potência. Para tanto, uma opção é definir um nível de potência sonora, $NWS$, único que será considerado para todas as frequências:"
      ]
    },
    {
      "cell_type": "code",
      "metadata": {
        "id": "sHaZOQ3fLkCl"
      },
      "source": [
        "nws = 97\n",
        "my_room.add_source([0.931, -2.547, 1.23], nws = nws)"
      ],
      "execution_count": null,
      "outputs": []
    },
    {
      "cell_type": "markdown",
      "metadata": {
        "id": "C_eR6PTcMDHy"
      },
      "source": [
        "Também é possível definir um espectro de potência. Nesse caso, a potência da fonte sonora irá depender da frequência:"
      ]
    },
    {
      "cell_type": "code",
      "metadata": {
        "id": "tO8xniAZMd4p"
      },
      "source": [
        "power_spec = np.array([80, 84, 89, 91, 94])\n",
        "bands = np.array([16,31.5,63,125,250])\n",
        "my_room.add_source([0.119, 2.880, 1.23], power_spec = power_spec, bands = bands)"
      ],
      "execution_count": null,
      "outputs": []
    },
    {
      "cell_type": "markdown",
      "metadata": {
        "id": "M9rohJZgOWHr"
      },
      "source": [
        "Por fim, é possível possível utilizar a técnica dos harmônicos esféricos. Nesse caso, não só a resposta do fonte sonora será caracterizada, mas também a sua direcionalidade."
      ]
    },
    {
      "cell_type": "code",
      "metadata": {
        "id": "6olGiAVpRS56"
      },
      "source": [
        "my_room.add_source([1.498, -1.974, 1.026], type = \"directional\", power_correction = 84.4, elevation = np.array([0.0]), azimuth = np.array([270.0]))"
      ],
      "execution_count": null,
      "outputs": []
    },
    {
      "cell_type": "markdown",
      "metadata": {
        "id": "u60DJWMHSQ3w"
      },
      "source": [
        "É possível listar as fontes sonoras que foram incluídas e deletá-las:"
      ]
    },
    {
      "cell_type": "code",
      "metadata": {
        "id": "a0btjZuqSYqe"
      },
      "source": [
        "my_room.list_sources()\n",
        "my_room.del_sources([0])\n",
        "my_room.list_sources()"
      ],
      "execution_count": null,
      "outputs": []
    },
    {
      "cell_type": "markdown",
      "metadata": {
        "id": "M7fPJUGjRx-Q"
      },
      "source": [
        "No caso dos receptores, é necessário definir, ao menos, a posição. Nesse caso, o receptor será considerado ominidirecional e com uma resposta completamente plana:"
      ]
    },
    {
      "cell_type": "code",
      "metadata": {
        "id": "rNjXNIVdRi9g"
      },
      "source": [
        "my_room.add_receiver([-1.110, -0.256, 1.230])"
      ],
      "execution_count": null,
      "outputs": []
    },
    {
      "cell_type": "markdown",
      "metadata": {
        "id": "jFWukcp6Syc3"
      },
      "source": [
        "Também é possível utilizar a técnica dos harmônicos esféricos para considerar a direcionalidade dos receptores. Isso permite a obtenção de resultados biauriculares."
      ]
    },
    {
      "cell_type": "code",
      "metadata": {
        "id": "z0SyqI8vSxS3"
      },
      "source": [
        "my_room.add_receiver([0, 2.026, 1.230], type = \"binaural\", azimuth = np.array([270]))"
      ],
      "execution_count": null,
      "outputs": []
    },
    {
      "cell_type": "markdown",
      "metadata": {
        "id": "iag02JpnUS6e"
      },
      "source": [
        "Tanbém é possível listar os receptores que foram incluídos e deletá-los:"
      ]
    },
    {
      "cell_type": "code",
      "metadata": {
        "id": "y3awuldwUOiN"
      },
      "source": [
        "my_room.list_receivers()\n",
        "my_room.del_receivers([1])\n",
        "my_room.list_receivers()"
      ],
      "execution_count": null,
      "outputs": []
    },
    {
      "cell_type": "markdown",
      "metadata": {
        "id": "LKkKlkslUnGO"
      },
      "source": [
        "Podemos ter uma visão geral da geometria da sala com fontes e receptores posicionados:"
      ]
    },
    {
      "cell_type": "code",
      "metadata": {
        "id": "hqIA9VsIUxt_"
      },
      "source": [
        "my_room.view()"
      ],
      "execution_count": null,
      "outputs": []
    },
    {
      "cell_type": "markdown",
      "metadata": {
        "id": "tkIB23OuU4l1"
      },
      "source": [
        "Agora é só rodar :)"
      ]
    },
    {
      "cell_type": "code",
      "metadata": {
        "id": "UN1Icb9-U7RV"
      },
      "source": [
        "my_room.run()"
      ],
      "execution_count": null,
      "outputs": []
    },
    {
      "cell_type": "markdown",
      "metadata": {
        "id": "q9hEgdM0X0qd"
      },
      "source": [
        "Finalizada a simulação , é possível visualizar os resultados. É possível obter a magnitude da pressão sonora (nível de pressão sonora) e a fase: "
      ]
    },
    {
      "cell_type": "code",
      "metadata": {
        "id": "DT1gFKuoYlLV"
      },
      "source": [
        "my_room.plot_spl()\n",
        "my_room.plot_phase()"
      ],
      "execution_count": null,
      "outputs": []
    }
  ]
}